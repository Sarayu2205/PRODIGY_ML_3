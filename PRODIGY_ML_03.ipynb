{
  "nbformat": 4,
  "nbformat_minor": 0,
  "metadata": {
    "colab": {
      "provenance": [],
      "authorship_tag": "ABX9TyOxjcCRDQtjX9yrTClgwFrw",
      "include_colab_link": true
    },
    "kernelspec": {
      "name": "python3",
      "display_name": "Python 3"
    },
    "language_info": {
      "name": "python"
    }
  },
  "cells": [
    {
      "cell_type": "markdown",
      "metadata": {
        "id": "view-in-github",
        "colab_type": "text"
      },
      "source": [
        "<a href=\"https://colab.research.google.com/github/Sarayu2205/PRODIGY_ML_3/blob/main/PRODIGY_ML_03.ipynb\" target=\"_parent\"><img src=\"https://colab.research.google.com/assets/colab-badge.svg\" alt=\"Open In Colab\"/></a>"
      ]
    },
    {
      "cell_type": "code",
      "source": [
        "import os\n",
        "import cv2\n",
        "import numpy as np\n",
        "import matplotlib.pyplot as plt\n",
        "import seaborn as sns\n",
        "from tqdm import tqdm\n",
        "from sklearn.model_selection import train_test_split\n",
        "from sklearn.preprocessing import StandardScaler\n",
        "from sklearn.svm import SVC\n",
        "from sklearn.metrics import accuracy_score, confusion_matrix, classification_report\n",
        "from IPython.display import display\n",
        "from google.colab import drive\n",
        "\n",
        "# ✅ MOUNT GOOGLE DRIVE\n",
        "drive.mount('/content/drive')\n",
        "\n",
        "# ✅ UPDATE DATASET PATH (Make sure this matches your Google Drive structure)\n",
        "dataset_path = \"/content/drive/My Drive/cats_dogs_dataset\"  # Change if needed\n",
        "dogs_path = dataset_path + \"/dogs\"\n",
        "cats_path = dataset_path + \"/cats\"\n",
        "\n",
        "# ✅ CHECK IF FOLDERS EXIST\n",
        "if not os.path.exists(dogs_path) or not os.path.exists(cats_path):\n",
        "    raise FileNotFoundError(\"⚠️ Dataset folders not found! Check your Google Drive path.\")\n",
        "\n",
        "# Function to load images\n",
        "def load_images(directory, label, img_size=(64, 64)):\n",
        "    images, labels = [], []\n",
        "    for filename in tqdm(os.listdir(directory)):\n",
        "        filepath = os.path.join(directory, filename)\n",
        "        img = cv2.imread(filepath)\n",
        "        if img is not None:\n",
        "            img = cv2.resize(img, img_size)\n",
        "            images.append(img.flatten())  # Flatten the image\n",
        "            labels.append(label)\n",
        "    return images, labels\n",
        "\n",
        "# ✅ LOAD IMAGES\n",
        "dogs, dogs_labels = load_images(dogs_path, label=1)\n",
        "cats, cats_labels = load_images(cats_path, label=0)\n",
        "\n",
        "# Combine dataset\n",
        "X = np.array(dogs + cats)\n",
        "y = np.array(dogs_labels + cats_labels)\n",
        "\n",
        "# Split dataset\n",
        "X_train, X_test, y_train, y_test = train_test_split(X, y, test_size=0.2, random_state=42)\n",
        "\n",
        "# Standardize features\n",
        "scaler = StandardScaler()\n",
        "X_train = scaler.fit_transform(X_train)\n",
        "X_test = scaler.transform(X_test)\n",
        "\n",
        "# Train SVM Model\n",
        "svm_model = SVC(kernel='linear', C=1.0)\n",
        "svm_model.fit(X_train, y_train)\n",
        "\n",
        "# Make Predictions\n",
        "y_pred = svm_model.predict(X_test)\n",
        "\n",
        "# Compute Confusion Matrix\n",
        "cm = confusion_matrix(y_test, y_pred)\n",
        "\n",
        "# Display accuracy\n",
        "accuracy = accuracy_score(y_test, y_pred)\n",
        "print(f\"✅ Model Accuracy: {accuracy * 100:.2f}%\")\n",
        "\n",
        "# ✅ FIXED: Confusion Matrix (Now it will show only once)\n",
        "plt.figure(figsize=(6, 4))\n",
        "sns.heatmap(cm, annot=True, fmt='d', cmap='Blues', xticklabels=[\"Cat\", \"Dog\"], yticklabels=[\"Cat\", \"Dog\"])\n",
        "plt.xlabel(\"Predicted labels\")\n",
        "plt.ylabel(\"True labels\")\n",
        "plt.title(\"Confusion Matrix\")\n",
        "\n",
        "# ✅ Removed display(plt.gcf()) to avoid double output\n",
        "plt.show()\n",
        "\n"
      ],
      "metadata": {
        "colab": {
          "base_uri": "https://localhost:8080/",
          "height": 534
        },
        "id": "Ko54gOPn3vHL",
        "outputId": "f25b4a23-ce20-413c-b1fc-a2425654c86b"
      },
      "execution_count": 5,
      "outputs": [
        {
          "output_type": "stream",
          "name": "stdout",
          "text": [
            "Drive already mounted at /content/drive; to attempt to forcibly remount, call drive.mount(\"/content/drive\", force_remount=True).\n"
          ]
        },
        {
          "output_type": "stream",
          "name": "stderr",
          "text": [
            "100%|██████████| 2/2 [00:00<00:00, 86.02it/s]\n",
            "100%|██████████| 2/2 [00:00<00:00,  7.99it/s]"
          ]
        },
        {
          "output_type": "stream",
          "name": "stdout",
          "text": [
            "✅ Model Accuracy: 100.00%\n"
          ]
        },
        {
          "output_type": "stream",
          "name": "stderr",
          "text": [
            "\n",
            "/usr/local/lib/python3.11/dist-packages/sklearn/metrics/_classification.py:407: UserWarning: A single label was found in 'y_true' and 'y_pred'. For the confusion matrix to have the correct shape, use the 'labels' parameter to pass all known labels.\n",
            "  warnings.warn(\n"
          ]
        },
        {
          "output_type": "display_data",
          "data": {
            "text/plain": [
              "<Figure size 600x400 with 2 Axes>"
            ],
            "image/png": "[encoded data removed]"
          },
          "metadata": {}
        }
      ]
    }
  ]
}